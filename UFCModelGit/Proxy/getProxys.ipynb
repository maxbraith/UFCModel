{
 "cells": [
  {
   "cell_type": "code",
   "execution_count": 2,
   "metadata": {},
   "outputs": [],
   "source": [
    "import requests\n",
    "import bs4\n",
    "from bs4 import BeautifulSoup\n",
    "import concurrent.futures\n",
    "import re\n",
    "import csv"
   ]
  },
  {
   "cell_type": "code",
   "execution_count": 24,
   "metadata": {},
   "outputs": [
    {
     "name": "stdout",
     "output_type": "stream",
     "text": [
      "<class 'str'>\n"
     ]
    },
    {
     "ename": "KeyboardInterrupt",
     "evalue": "",
     "output_type": "error",
     "traceback": [
      "\u001b[0;31m---------------------------------------------------------------------------\u001b[0m",
      "\u001b[0;31mKeyboardInterrupt\u001b[0m                         Traceback (most recent call last)",
      "\u001b[1;32m/Users/maxbraithwaite/Desktop/UFCModel/UFCModel/UFCModelGit/Proxy/getProxys.ipynb Cell 2\u001b[0m line \u001b[0;36m6\n\u001b[1;32m     <a href='vscode-notebook-cell:/Users/maxbraithwaite/Desktop/UFCModel/UFCModel/UFCModelGit/Proxy/getProxys.ipynb#W1sZmlsZQ%3D%3D?line=61'>62</a>\u001b[0m         \u001b[39mexcept\u001b[39;00m:\n\u001b[1;32m     <a href='vscode-notebook-cell:/Users/maxbraithwaite/Desktop/UFCModel/UFCModel/UFCModelGit/Proxy/getProxys.ipynb#W1sZmlsZQ%3D%3D?line=62'>63</a>\u001b[0m             \u001b[39mpass\u001b[39;00m\n\u001b[0;32m---> <a href='vscode-notebook-cell:/Users/maxbraithwaite/Desktop/UFCModel/UFCModel/UFCModelGit/Proxy/getProxys.ipynb#W1sZmlsZQ%3D%3D?line=66'>67</a>\u001b[0m getProxys()\n",
      "\u001b[1;32m/Users/maxbraithwaite/Desktop/UFCModel/UFCModel/UFCModelGit/Proxy/getProxys.ipynb Cell 2\u001b[0m line \u001b[0;36m4\n\u001b[1;32m     <a href='vscode-notebook-cell:/Users/maxbraithwaite/Desktop/UFCModel/UFCModel/UFCModelGit/Proxy/getProxys.ipynb#W1sZmlsZQ%3D%3D?line=39'>40</a>\u001b[0m         proxys\u001b[39m.\u001b[39mappend(row[\u001b[39m2\u001b[39m])\n\u001b[1;32m     <a href='vscode-notebook-cell:/Users/maxbraithwaite/Desktop/UFCModel/UFCModel/UFCModelGit/Proxy/getProxys.ipynb#W1sZmlsZQ%3D%3D?line=40'>41</a>\u001b[0m \u001b[39mprint\u001b[39m(\u001b[39mtype\u001b[39m(proxys[\u001b[39m1\u001b[39m]))\n\u001b[0;32m---> <a href='vscode-notebook-cell:/Users/maxbraithwaite/Desktop/UFCModel/UFCModel/UFCModelGit/Proxy/getProxys.ipynb#W1sZmlsZQ%3D%3D?line=42'>43</a>\u001b[0m \u001b[39mwith\u001b[39;49;00m concurrent\u001b[39m.\u001b[39;49mfutures\u001b[39m.\u001b[39;49mThreadPoolExecutor() \u001b[39mas\u001b[39;49;00m executor:\n\u001b[1;32m     <a href='vscode-notebook-cell:/Users/maxbraithwaite/Desktop/UFCModel/UFCModel/UFCModelGit/Proxy/getProxys.ipynb#W1sZmlsZQ%3D%3D?line=43'>44</a>\u001b[0m     executor\u001b[39m.\u001b[39;49mmap(testproxys, proxys)\n",
      "File \u001b[0;32m/Library/Frameworks/Python.framework/Versions/3.12/lib/python3.12/concurrent/futures/_base.py:647\u001b[0m, in \u001b[0;36mExecutor.__exit__\u001b[0;34m(self, exc_type, exc_val, exc_tb)\u001b[0m\n\u001b[1;32m    646\u001b[0m \u001b[39mdef\u001b[39;00m \u001b[39m__exit__\u001b[39m(\u001b[39mself\u001b[39m, exc_type, exc_val, exc_tb):\n\u001b[0;32m--> 647\u001b[0m     \u001b[39mself\u001b[39;49m\u001b[39m.\u001b[39;49mshutdown(wait\u001b[39m=\u001b[39;49m\u001b[39mTrue\u001b[39;49;00m)\n\u001b[1;32m    648\u001b[0m     \u001b[39mreturn\u001b[39;00m \u001b[39mFalse\u001b[39;00m\n",
      "File \u001b[0;32m/Library/Frameworks/Python.framework/Versions/3.12/lib/python3.12/concurrent/futures/thread.py:238\u001b[0m, in \u001b[0;36mThreadPoolExecutor.shutdown\u001b[0;34m(self, wait, cancel_futures)\u001b[0m\n\u001b[1;32m    236\u001b[0m \u001b[39mif\u001b[39;00m wait:\n\u001b[1;32m    237\u001b[0m     \u001b[39mfor\u001b[39;00m t \u001b[39min\u001b[39;00m \u001b[39mself\u001b[39m\u001b[39m.\u001b[39m_threads:\n\u001b[0;32m--> 238\u001b[0m         t\u001b[39m.\u001b[39;49mjoin()\n",
      "File \u001b[0;32m/Library/Frameworks/Python.framework/Versions/3.12/lib/python3.12/threading.py:1126\u001b[0m, in \u001b[0;36mThread.join\u001b[0;34m(self, timeout)\u001b[0m\n\u001b[1;32m   1123\u001b[0m     \u001b[39mraise\u001b[39;00m \u001b[39mRuntimeError\u001b[39;00m(\u001b[39m\"\u001b[39m\u001b[39mcannot join current thread\u001b[39m\u001b[39m\"\u001b[39m)\n\u001b[1;32m   1125\u001b[0m \u001b[39mif\u001b[39;00m timeout \u001b[39mis\u001b[39;00m \u001b[39mNone\u001b[39;00m:\n\u001b[0;32m-> 1126\u001b[0m     \u001b[39mself\u001b[39;49m\u001b[39m.\u001b[39;49m_wait_for_tstate_lock()\n\u001b[1;32m   1127\u001b[0m \u001b[39melse\u001b[39;00m:\n\u001b[1;32m   1128\u001b[0m     \u001b[39m# the behavior of a negative timeout isn't documented, but\u001b[39;00m\n\u001b[1;32m   1129\u001b[0m     \u001b[39m# historically .join(timeout=x) for x<0 has acted as if timeout=0\u001b[39;00m\n\u001b[1;32m   1130\u001b[0m     \u001b[39mself\u001b[39m\u001b[39m.\u001b[39m_wait_for_tstate_lock(timeout\u001b[39m=\u001b[39m\u001b[39mmax\u001b[39m(timeout, \u001b[39m0\u001b[39m))\n",
      "File \u001b[0;32m/Library/Frameworks/Python.framework/Versions/3.12/lib/python3.12/threading.py:1146\u001b[0m, in \u001b[0;36mThread._wait_for_tstate_lock\u001b[0;34m(self, block, timeout)\u001b[0m\n\u001b[1;32m   1143\u001b[0m     \u001b[39mreturn\u001b[39;00m\n\u001b[1;32m   1145\u001b[0m \u001b[39mtry\u001b[39;00m:\n\u001b[0;32m-> 1146\u001b[0m     \u001b[39mif\u001b[39;00m lock\u001b[39m.\u001b[39;49macquire(block, timeout):\n\u001b[1;32m   1147\u001b[0m         lock\u001b[39m.\u001b[39mrelease()\n\u001b[1;32m   1148\u001b[0m         \u001b[39mself\u001b[39m\u001b[39m.\u001b[39m_stop()\n",
      "\u001b[0;31mKeyboardInterrupt\u001b[0m: "
     ]
    }
   ],
   "source": [
    "def getProxys():\n",
    "    \n",
    "    proxys = []\n",
    "\n",
    "    url = \"https://free-proxy-list.net/\"\n",
    "\n",
    "    payload = \"\"\n",
    "    headers = {\"User-Agent\": \"insomnia/8.4.5\"}\n",
    "\n",
    "    url = 'https://free-proxy-list.net/'\n",
    "    site = requests.get(url, headers=headers)\n",
    "    soup = BeautifulSoup(site.content, 'html.parser')\n",
    "    table = soup.find('div', class_=re.compile('table-responsive'))\n",
    "    trlabels = table.find_all('tr')\n",
    "    for i in trlabels:\n",
    "        tdlabels = i.find_all('td')\n",
    "        try:\n",
    "\n",
    "            if(tdlabels[6].text.strip()=='yes'):\n",
    "                proxys.append(tdlabels[0].text.strip())\n",
    "        except:\n",
    "            pass\n",
    "    url = 'https://hidemy.io/en/proxy-list/'\n",
    "    site = requests.get(url, headers=headers)\n",
    "    soup = BeautifulSoup(site.content, 'html.parser')\n",
    "    table = soup.find('div',class_=re.compile('table_block'))\n",
    "    trlabels = table.find_all('tr')\n",
    "    for i in trlabels:\n",
    "        tdlabels = i.find_all('td')\n",
    "        try:\n",
    "\n",
    "            if(tdlabels[4].text.strip()=='HTTP'):\n",
    "                proxys.append(tdlabels[0].text.strip())\n",
    "        except:\n",
    "            pass\n",
    "    \n",
    "    with open('csv_proxies.csv', 'r') as f:\n",
    "        reader = csv.reader(f)\n",
    "        for row in reader:\n",
    "            proxys.append(row[2])\n",
    "    \n",
    "    with concurrent.futures.ThreadPoolExecutor() as executor:\n",
    "        executor.map(testproxys, proxys)\n",
    "\n",
    "\n",
    "def testproxys(proxys):    \n",
    "\n",
    "    \n",
    "    workingProxies =[]\n",
    "    headers = {'User-Agent': \"Mozilla/5.0 (Windows NT 10.0; Win64; x64) AppleWebKit/537.36 (KHTML, like Gecko) Chrome/42.0.2311.135 Safari/537.36 Edge/12.246\"}\n",
    "\n",
    "    for proxy in proxys:\n",
    "        try:\n",
    "            r = requests.get('https://www.ufc.com/', headers=headers, proxies={'http':proxy, 'https':proxy}, timeout=7)\n",
    "            soup = BeautifulSoup(r.content, 'html.parser')\n",
    "            with open('working_proxies.csv', 'w', encoding='UTF8', newline='') as workingProx:\n",
    "                writer = csv.writer(workingProx)\n",
    "                for k in workingProxies:\n",
    "                    writer.writerow([k])\n",
    "\n",
    "        except:\n",
    "            pass\n",
    "\n",
    "    \n",
    "\n",
    "getProxys()\n",
    "\n",
    "\n"
   ]
  }
 ],
 "metadata": {
  "kernelspec": {
   "display_name": ".venv",
   "language": "python",
   "name": "python3"
  },
  "language_info": {
   "codemirror_mode": {
    "name": "ipython",
    "version": 3
   },
   "file_extension": ".py",
   "mimetype": "text/x-python",
   "name": "python",
   "nbconvert_exporter": "python",
   "pygments_lexer": "ipython3",
   "version": "3.12.0"
  }
 },
 "nbformat": 4,
 "nbformat_minor": 2
}
