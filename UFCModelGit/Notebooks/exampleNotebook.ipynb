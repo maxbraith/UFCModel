{
 "cells": [
  {
   "cell_type": "code",
   "execution_count": 1,
   "metadata": {},
   "outputs": [
    {
     "name": "stdout",
     "output_type": "stream",
     "text": [
      "2934\n"
     ]
    },
    {
     "ename": "KeyboardInterrupt",
     "evalue": "",
     "output_type": "error",
     "traceback": [
      "\u001b[0;31m---------------------------------------------------------------------------\u001b[0m",
      "\u001b[0;31mKeyboardInterrupt\u001b[0m                         Traceback (most recent call last)",
      "\u001b[1;32m/Users/maxbraithwaite/Desktop/UFCModel/UFCModel/UFCModelGit/Notebooks/exampleNotebook.ipynb Cell 1\u001b[0m line \u001b[0;36m3\n\u001b[1;32m     <a href='vscode-notebook-cell:/Users/maxbraithwaite/Desktop/UFCModel/UFCModel/UFCModelGit/Notebooks/exampleNotebook.ipynb#W0sZmlsZQ%3D%3D?line=29'>30</a>\u001b[0m     url \u001b[39m=\u001b[39m \u001b[39mf\u001b[39m\u001b[39m'\u001b[39m\u001b[39mhttps://www.ufc.com/athletes/all?page=\u001b[39m\u001b[39m{\u001b[39;00mi\u001b[39m}\u001b[39;00m\u001b[39m'\u001b[39m\n\u001b[1;32m     <a href='vscode-notebook-cell:/Users/maxbraithwaite/Desktop/UFCModel/UFCModel/UFCModelGit/Notebooks/exampleNotebook.ipynb#W0sZmlsZQ%3D%3D?line=30'>31</a>\u001b[0m     site \u001b[39m=\u001b[39m requests\u001b[39m.\u001b[39mget(url, headers\u001b[39m=\u001b[39mheaders)\n\u001b[0;32m---> <a href='vscode-notebook-cell:/Users/maxbraithwaite/Desktop/UFCModel/UFCModel/UFCModelGit/Notebooks/exampleNotebook.ipynb#W0sZmlsZQ%3D%3D?line=31'>32</a>\u001b[0m     soup \u001b[39m=\u001b[39m BeautifulSoup(site\u001b[39m.\u001b[39;49mcontent, \u001b[39m'\u001b[39;49m\u001b[39mhtml.parser\u001b[39;49m\u001b[39m'\u001b[39;49m)\n\u001b[1;32m     <a href='vscode-notebook-cell:/Users/maxbraithwaite/Desktop/UFCModel/UFCModel/UFCModelGit/Notebooks/exampleNotebook.ipynb#W0sZmlsZQ%3D%3D?line=32'>33</a>\u001b[0m     fighters_names\u001b[39m.\u001b[39mappend(soup\u001b[39m.\u001b[39mfind_all(\u001b[39m'\u001b[39m\u001b[39mspan\u001b[39m\u001b[39m'\u001b[39m, class_\u001b[39m=\u001b[39mre\u001b[39m.\u001b[39mcompile(\u001b[39m'\u001b[39m\u001b[39mc-listing-athlete__name\u001b[39m\u001b[39m'\u001b[39m)))\n\u001b[1;32m     <a href='vscode-notebook-cell:/Users/maxbraithwaite/Desktop/UFCModel/UFCModel/UFCModelGit/Notebooks/exampleNotebook.ipynb#W0sZmlsZQ%3D%3D?line=34'>35</a>\u001b[0m \u001b[39mprint\u001b[39m(fighters_names)\n",
      "File \u001b[0;32m~/Desktop/UFCModel/UFCModel/UFCModelGit/.venv/lib/python3.12/site-packages/bs4/__init__.py:335\u001b[0m, in \u001b[0;36mBeautifulSoup.__init__\u001b[0;34m(self, markup, features, builder, parse_only, from_encoding, exclude_encodings, element_classes, **kwargs)\u001b[0m\n\u001b[1;32m    333\u001b[0m \u001b[39mself\u001b[39m\u001b[39m.\u001b[39mbuilder\u001b[39m.\u001b[39minitialize_soup(\u001b[39mself\u001b[39m)\n\u001b[1;32m    334\u001b[0m \u001b[39mtry\u001b[39;00m:\n\u001b[0;32m--> 335\u001b[0m     \u001b[39mself\u001b[39;49m\u001b[39m.\u001b[39;49m_feed()\n\u001b[1;32m    336\u001b[0m     success \u001b[39m=\u001b[39m \u001b[39mTrue\u001b[39;00m\n\u001b[1;32m    337\u001b[0m     \u001b[39mbreak\u001b[39;00m\n",
      "File \u001b[0;32m~/Desktop/UFCModel/UFCModel/UFCModelGit/.venv/lib/python3.12/site-packages/bs4/__init__.py:478\u001b[0m, in \u001b[0;36mBeautifulSoup._feed\u001b[0;34m(self)\u001b[0m\n\u001b[1;32m    475\u001b[0m \u001b[39m# Convert the document to Unicode.\u001b[39;00m\n\u001b[1;32m    476\u001b[0m \u001b[39mself\u001b[39m\u001b[39m.\u001b[39mbuilder\u001b[39m.\u001b[39mreset()\n\u001b[0;32m--> 478\u001b[0m \u001b[39mself\u001b[39;49m\u001b[39m.\u001b[39;49mbuilder\u001b[39m.\u001b[39;49mfeed(\u001b[39mself\u001b[39;49m\u001b[39m.\u001b[39;49mmarkup)\n\u001b[1;32m    479\u001b[0m \u001b[39m# Close out any unfinished strings and close all the open tags.\u001b[39;00m\n\u001b[1;32m    480\u001b[0m \u001b[39mself\u001b[39m\u001b[39m.\u001b[39mendData()\n",
      "File \u001b[0;32m~/Desktop/UFCModel/UFCModel/UFCModelGit/.venv/lib/python3.12/site-packages/bs4/builder/_htmlparser.py:380\u001b[0m, in \u001b[0;36mHTMLParserTreeBuilder.feed\u001b[0;34m(self, markup)\u001b[0m\n\u001b[1;32m    378\u001b[0m parser\u001b[39m.\u001b[39msoup \u001b[39m=\u001b[39m \u001b[39mself\u001b[39m\u001b[39m.\u001b[39msoup\n\u001b[1;32m    379\u001b[0m \u001b[39mtry\u001b[39;00m:\n\u001b[0;32m--> 380\u001b[0m     parser\u001b[39m.\u001b[39;49mfeed(markup)\n\u001b[1;32m    381\u001b[0m \u001b[39mexcept\u001b[39;00m \u001b[39mAssertionError\u001b[39;00m \u001b[39mas\u001b[39;00m e:\n\u001b[1;32m    382\u001b[0m     \u001b[39m# html.parser raises AssertionError in rare cases to\u001b[39;00m\n\u001b[1;32m    383\u001b[0m     \u001b[39m# indicate a fatal problem with the markup, especially\u001b[39;00m\n\u001b[1;32m    384\u001b[0m     \u001b[39m# when there's an error in the doctype declaration.\u001b[39;00m\n\u001b[1;32m    385\u001b[0m     \u001b[39mraise\u001b[39;00m ParserRejectedMarkup(e)\n",
      "File \u001b[0;32m/Library/Frameworks/Python.framework/Versions/3.12/lib/python3.12/html/parser.py:111\u001b[0m, in \u001b[0;36mHTMLParser.feed\u001b[0;34m(self, data)\u001b[0m\n\u001b[1;32m    105\u001b[0m \u001b[39m\u001b[39m\u001b[39mr\u001b[39m\u001b[39m\"\"\"Feed data to the parser.\u001b[39;00m\n\u001b[1;32m    106\u001b[0m \n\u001b[1;32m    107\u001b[0m \u001b[39mCall this as often as you want, with as little or as much text\u001b[39;00m\n\u001b[1;32m    108\u001b[0m \u001b[39mas you want (may include '\\n').\u001b[39;00m\n\u001b[1;32m    109\u001b[0m \u001b[39m\"\"\"\u001b[39;00m\n\u001b[1;32m    110\u001b[0m \u001b[39mself\u001b[39m\u001b[39m.\u001b[39mrawdata \u001b[39m=\u001b[39m \u001b[39mself\u001b[39m\u001b[39m.\u001b[39mrawdata \u001b[39m+\u001b[39m data\n\u001b[0;32m--> 111\u001b[0m \u001b[39mself\u001b[39;49m\u001b[39m.\u001b[39;49mgoahead(\u001b[39m0\u001b[39;49m)\n",
      "File \u001b[0;32m/Library/Frameworks/Python.framework/Versions/3.12/lib/python3.12/html/parser.py:171\u001b[0m, in \u001b[0;36mHTMLParser.goahead\u001b[0;34m(self, end)\u001b[0m\n\u001b[1;32m    169\u001b[0m \u001b[39mif\u001b[39;00m startswith(\u001b[39m'\u001b[39m\u001b[39m<\u001b[39m\u001b[39m'\u001b[39m, i):\n\u001b[1;32m    170\u001b[0m     \u001b[39mif\u001b[39;00m starttagopen\u001b[39m.\u001b[39mmatch(rawdata, i): \u001b[39m# < + letter\u001b[39;00m\n\u001b[0;32m--> 171\u001b[0m         k \u001b[39m=\u001b[39m \u001b[39mself\u001b[39;49m\u001b[39m.\u001b[39;49mparse_starttag(i)\n\u001b[1;32m    172\u001b[0m     \u001b[39melif\u001b[39;00m startswith(\u001b[39m\"\u001b[39m\u001b[39m</\u001b[39m\u001b[39m\"\u001b[39m, i):\n\u001b[1;32m    173\u001b[0m         k \u001b[39m=\u001b[39m \u001b[39mself\u001b[39m\u001b[39m.\u001b[39mparse_endtag(i)\n",
      "File \u001b[0;32m/Library/Frameworks/Python.framework/Versions/3.12/lib/python3.12/html/parser.py:338\u001b[0m, in \u001b[0;36mHTMLParser.parse_starttag\u001b[0;34m(self, i)\u001b[0m\n\u001b[1;32m    336\u001b[0m     \u001b[39mself\u001b[39m\u001b[39m.\u001b[39mhandle_startendtag(tag, attrs)\n\u001b[1;32m    337\u001b[0m \u001b[39melse\u001b[39;00m:\n\u001b[0;32m--> 338\u001b[0m     \u001b[39mself\u001b[39;49m\u001b[39m.\u001b[39;49mhandle_starttag(tag, attrs)\n\u001b[1;32m    339\u001b[0m     \u001b[39mif\u001b[39;00m tag \u001b[39min\u001b[39;00m \u001b[39mself\u001b[39m\u001b[39m.\u001b[39mCDATA_CONTENT_ELEMENTS:\n\u001b[1;32m    340\u001b[0m         \u001b[39mself\u001b[39m\u001b[39m.\u001b[39mset_cdata_mode(tag)\n",
      "File \u001b[0;32m~/Desktop/UFCModel/UFCModel/UFCModelGit/.venv/lib/python3.12/site-packages/bs4/builder/_htmlparser.py:137\u001b[0m, in \u001b[0;36mBeautifulSoupHTMLParser.handle_starttag\u001b[0;34m(self, name, attrs, handle_empty_element)\u001b[0m\n\u001b[1;32m    135\u001b[0m \u001b[39m#print(\"START\", name)\u001b[39;00m\n\u001b[1;32m    136\u001b[0m sourceline, sourcepos \u001b[39m=\u001b[39m \u001b[39mself\u001b[39m\u001b[39m.\u001b[39mgetpos()\n\u001b[0;32m--> 137\u001b[0m tag \u001b[39m=\u001b[39m \u001b[39mself\u001b[39;49m\u001b[39m.\u001b[39;49msoup\u001b[39m.\u001b[39;49mhandle_starttag(\n\u001b[1;32m    138\u001b[0m     name, \u001b[39mNone\u001b[39;49;00m, \u001b[39mNone\u001b[39;49;00m, attr_dict, sourceline\u001b[39m=\u001b[39;49msourceline,\n\u001b[1;32m    139\u001b[0m     sourcepos\u001b[39m=\u001b[39;49msourcepos\n\u001b[1;32m    140\u001b[0m )\n\u001b[1;32m    141\u001b[0m \u001b[39mif\u001b[39;00m tag \u001b[39mand\u001b[39;00m tag\u001b[39m.\u001b[39mis_empty_element \u001b[39mand\u001b[39;00m handle_empty_element:\n\u001b[1;32m    142\u001b[0m     \u001b[39m# Unlike other parsers, html.parser doesn't send separate end tag\u001b[39;00m\n\u001b[1;32m    143\u001b[0m     \u001b[39m# events for empty-element tags. (It's handled in\u001b[39;00m\n\u001b[0;32m   (...)\u001b[0m\n\u001b[1;32m    149\u001b[0m     \u001b[39m# don't want handle_endtag() to cross off any previous end\u001b[39;00m\n\u001b[1;32m    150\u001b[0m     \u001b[39m# events for tags of this name.\u001b[39;00m\n\u001b[1;32m    151\u001b[0m     \u001b[39mself\u001b[39m\u001b[39m.\u001b[39mhandle_endtag(name, check_already_closed\u001b[39m=\u001b[39m\u001b[39mFalse\u001b[39;00m)\n",
      "File \u001b[0;32m~/Desktop/UFCModel/UFCModel/UFCModelGit/.venv/lib/python3.12/site-packages/bs4/__init__.py:742\u001b[0m, in \u001b[0;36mBeautifulSoup.handle_starttag\u001b[0;34m(self, name, namespace, nsprefix, attrs, sourceline, sourcepos, namespaces)\u001b[0m\n\u001b[1;32m    724\u001b[0m \u001b[39m\u001b[39m\u001b[39m\"\"\"Called by the tree builder when a new tag is encountered.\u001b[39;00m\n\u001b[1;32m    725\u001b[0m \n\u001b[1;32m    726\u001b[0m \u001b[39m:param name: Name of the tag.\u001b[39;00m\n\u001b[0;32m   (...)\u001b[0m\n\u001b[1;32m    739\u001b[0m \u001b[39mdon't call handle_endtag.\u001b[39;00m\n\u001b[1;32m    740\u001b[0m \u001b[39m\"\"\"\u001b[39;00m\n\u001b[1;32m    741\u001b[0m \u001b[39m# print(\"Start tag %s: %s\" % (name, attrs))\u001b[39;00m\n\u001b[0;32m--> 742\u001b[0m \u001b[39mself\u001b[39;49m\u001b[39m.\u001b[39;49mendData()\n\u001b[1;32m    744\u001b[0m \u001b[39mif\u001b[39;00m (\u001b[39mself\u001b[39m\u001b[39m.\u001b[39mparse_only \u001b[39mand\u001b[39;00m \u001b[39mlen\u001b[39m(\u001b[39mself\u001b[39m\u001b[39m.\u001b[39mtagStack) \u001b[39m<\u001b[39m\u001b[39m=\u001b[39m \u001b[39m1\u001b[39m\n\u001b[1;32m    745\u001b[0m     \u001b[39mand\u001b[39;00m (\u001b[39mself\u001b[39m\u001b[39m.\u001b[39mparse_only\u001b[39m.\u001b[39mtext\n\u001b[1;32m    746\u001b[0m          \u001b[39mor\u001b[39;00m \u001b[39mnot\u001b[39;00m \u001b[39mself\u001b[39m\u001b[39m.\u001b[39mparse_only\u001b[39m.\u001b[39msearch_tag(name, attrs))):\n\u001b[1;32m    747\u001b[0m     \u001b[39mreturn\u001b[39;00m \u001b[39mNone\u001b[39;00m\n",
      "File \u001b[0;32m~/Desktop/UFCModel/UFCModel/UFCModelGit/.venv/lib/python3.12/site-packages/bs4/__init__.py:618\u001b[0m, in \u001b[0;36mBeautifulSoup.endData\u001b[0;34m(self, containerClass)\u001b[0m\n\u001b[1;32m    616\u001b[0m containerClass \u001b[39m=\u001b[39m \u001b[39mself\u001b[39m\u001b[39m.\u001b[39mstring_container(containerClass)\n\u001b[1;32m    617\u001b[0m o \u001b[39m=\u001b[39m containerClass(current_data)\n\u001b[0;32m--> 618\u001b[0m \u001b[39mself\u001b[39;49m\u001b[39m.\u001b[39;49mobject_was_parsed(o)\n",
      "File \u001b[0;32m~/Desktop/UFCModel/UFCModel/UFCModelGit/.venv/lib/python3.12/site-packages/bs4/__init__.py:646\u001b[0m, in \u001b[0;36mBeautifulSoup.object_was_parsed\u001b[0;34m(self, o, parent, most_recent_element)\u001b[0m\n\u001b[1;32m    644\u001b[0m \u001b[39m# Check if we are inserting into an already parsed node.\u001b[39;00m\n\u001b[1;32m    645\u001b[0m \u001b[39mif\u001b[39;00m fix:\n\u001b[0;32m--> 646\u001b[0m     \u001b[39mself\u001b[39;49m\u001b[39m.\u001b[39;49m_linkage_fixer(parent)\n",
      "File \u001b[0;32m~/Desktop/UFCModel/UFCModel/UFCModelGit/.venv/lib/python3.12/site-packages/bs4/__init__.py:679\u001b[0m, in \u001b[0;36mBeautifulSoup._linkage_fixer\u001b[0;34m(self, el)\u001b[0m\n\u001b[1;32m    677\u001b[0m descendant\u001b[39m.\u001b[39mnext_sibling \u001b[39m=\u001b[39m \u001b[39mNone\u001b[39;00m\n\u001b[1;32m    678\u001b[0m target \u001b[39m=\u001b[39m el\n\u001b[0;32m--> 679\u001b[0m \u001b[39mwhile\u001b[39;00m \u001b[39mTrue\u001b[39;00m:\n\u001b[1;32m    680\u001b[0m     \u001b[39mif\u001b[39;00m target \u001b[39mis\u001b[39;00m \u001b[39mNone\u001b[39;00m:\n\u001b[1;32m    681\u001b[0m         \u001b[39mbreak\u001b[39;00m\n",
      "\u001b[0;31mKeyboardInterrupt\u001b[0m: "
     ]
    }
   ],
   "source": [
    "import requests\n",
    "from bs4 import BeautifulSoup\n",
    "import re\n",
    "import pandas as pd\n",
    "import numpy\n",
    "import math\n",
    "import csv\n",
    "from unidecode import unidecode\n",
    "from csv import writer\n",
    "\n",
    "\n",
    "\n",
    "\n",
    "#define url/headers\n",
    "url = 'https://www.ufc.com/athletes/all?page=0'\n",
    "headers = {'User-Agent': \"Mozilla/5.0 (Windows NT 10.0; Win64; x64) AppleWebKit/537.36 (KHTML, like Gecko) Chrome/42.0.2311.135 Safari/537.36 Edge/12.246\"}\n",
    "#site request\n",
    "site = requests.get(url, headers=headers)\n",
    "soup = BeautifulSoup(site.content, 'html.parser')\n",
    "#scrape number of fighters\n",
    "num_fighters = soup.find('div', class_='althelete-total').get_text().strip()\n",
    "index = num_fighters.find(' ')\n",
    "num_fighters = int(num_fighters[:index])\n",
    "print(num_fighters)\n",
    "#scraping names of all fighters\n",
    "fighters_names = []\n",
    "all_fighters = []\n",
    "#num_fighters/11 is number of pages (11 fighters per page)\n",
    "for i in range(12):\n",
    "    url = f'https://www.ufc.com/athletes/all?page={i}'\n",
    "    site = requests.get(url, headers=headers)\n",
    "    soup = BeautifulSoup(site.content, 'html.parser')\n",
    "    fighters_names.append(soup.find_all('span', class_=re.compile('c-listing-athlete__name')))\n",
    "\n",
    "print(fighters_names)\n",
    "\n"
   ]
  },
  {
   "cell_type": "code",
   "execution_count": 9,
   "metadata": {},
   "outputs": [
    {
     "name": "stdout",
     "output_type": "stream",
     "text": [
      "['Danny Abbadi', 'Nariman Abbassov', 'Tank Abbott', 'Hamdy Abdelwahab', 'Shamil Abdurakhimov', 'Daichi Abe', 'Papy Abedi', 'Klidson Abreu', 'Ricardo Abreu', 'John Adajar', 'Scott Adams', 'Juan Adams', 'Anthony Adams', 'Zarrukh Adashev', 'Israel Adesanya', 'Sam Adkins', 'Nick Agallar', 'Mariya Agapova', 'Fabio Agu', 'Marcello Aguiar', 'Jessica Aguilar', 'Kevin Aguilar', 'Jesus Aguilar', 'Christian Aguilera', 'Nick Aguirre', 'Ashiek Ajim', 'Omari Akhmedov', 'Yoshihiro Akiyama', 'Rostem Akman', 'Mostapha Al Turk', 'Razak Al-Hassan', 'Ali Al-Qaisi', 'Abdul-Kareem Al-Selwady', 'Herdem Alacabek', 'Alatengheili', 'Amir Albazi', 'John Albert', 'Junior Albini', 'Wes Albritton', 'Alexandra Albu', 'Iuri Alcantara', 'Ildemar Alcantara', 'Alfonso Alcarez', 'Hector Aldana', 'Irene Aldana', 'Gilbert Aldana', 'Jose Alday', 'José Aldo', 'JJ Aldrich', 'Irina Alekseeva', 'Talita Alencar', 'Jim Alers', 'John Alessio', 'Houston Alexander', 'Lucas Alexander', 'Marcio Alexandre', 'Olaf Alfonso', 'Bill Algeo', 'Royce Alger', 'Abdul Razak Alhassan', 'Amir Aliakbari', 'Sultan Aliev', 'Nurullo Aliev', 'Ikram Aliskerov', 'Leon Aliu', 'John Allan', 'Arnold Allen', 'Brendan Allen', 'Benny Alloway', 'Assu Almabayev', 'Ricardo Almeida', 'Thomas Almeida', 'Ericka Almeida', 'Estefani Almeida', 'Lucas Almeida', 'Jailton Almeida', 'Cesar Almeida', 'Sarah Alpar', 'Victor Altamirano', 'Patricia Alujas', 'Jaime Alvarez', 'Eddie Alvarez', 'Sean Alvarez', 'Joel Álvarez', 'Amilcar Alves', 'Thiago Alves', 'Rafael Alves', 'Warlley Alves', 'Sam Alvey', 'Adlan Amagov', 'Rayanne Amanda', 'Alen Amedovski', 'Hyder Amil', 'Makwan Amirkhani', 'Jaqueline Amorim', 'Eryk Anders', 'Matt Andersen', 'Megan Anderson', 'Corey Anderson', 'Andy Anderson', 'Lowell Anderson', 'Tatsuya Ando', 'Viscardi Andrade', 'Alex Andrade', 'Jéssica Andrade', 'Jermaine Andre', 'Juan Andres Luna', 'Dylan Andrews', 'Reese Andy', 'Julius Anglickas', 'Collin Anglin', 'Chad Anheliger', 'Yoji Anjo', 'Magomed Ankalaev', 'Nina Nunes', 'Gadzhimurad Antigulov', 'Adam Antolin', 'Zu Anyanwu', 'Wang Anying', 'Shinsho Anzai', 'Aoriqileng', 'Josh Appelt', 'Romie Aram', 'Felipe Arantes', 'Igor Araujo', 'Viviane Araújo', 'Julio Arce', 'Carrese Archer', 'Dan Argueta', 'Rheza Arianto', 'Hashem Arkhagha', 'Andrei Arlovski']\n"
     ]
    }
   ],
   "source": [
    "for i in range(len(fighters_names)):\n",
    "    all_fighters.extend([a.text.strip() for a in fighters_names[i]])\n",
    "\n",
    "#clean names\n",
    "all_fighters = list(dict.fromkeys(all_fighters))\n",
    "print(all_fighters)"
   ]
  }
 ],
 "metadata": {
  "kernelspec": {
   "display_name": ".venv",
   "language": "python",
   "name": "python3"
  },
  "language_info": {
   "codemirror_mode": {
    "name": "ipython",
    "version": 3
   },
   "file_extension": ".py",
   "mimetype": "text/x-python",
   "name": "python",
   "nbconvert_exporter": "python",
   "pygments_lexer": "ipython3",
   "version": "3.12.0"
  }
 },
 "nbformat": 4,
 "nbformat_minor": 2
}
