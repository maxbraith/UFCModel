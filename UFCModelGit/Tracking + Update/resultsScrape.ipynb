{
 "cells": [
  {
   "cell_type": "code",
   "execution_count": 1,
   "metadata": {},
   "outputs": [],
   "source": [
    "import requests\n",
    "from bs4 import BeautifulSoup\n",
    "import re\n",
    "import csv\n",
    "from csv import writer\n",
    "import random\n",
    "import time\n",
    "import pandas as pd\n",
    "import csv\n",
    "import numpy as np\n",
    "import math\n",
    "import itertools\n",
    "import concurrent.futures\n",
    "import datetime\n",
    "import datetime\n",
    "from datetime import date"
   ]
  },
  {
   "cell_type": "code",
   "execution_count": 2,
   "metadata": {},
   "outputs": [
    {
     "data": {
      "text/html": [
       "<div>\n",
       "<style scoped>\n",
       "    .dataframe tbody tr th:only-of-type {\n",
       "        vertical-align: middle;\n",
       "    }\n",
       "\n",
       "    .dataframe tbody tr th {\n",
       "        vertical-align: top;\n",
       "    }\n",
       "\n",
       "    .dataframe thead th {\n",
       "        text-align: right;\n",
       "    }\n",
       "</style>\n",
       "<table border=\"1\" class=\"dataframe\">\n",
       "  <thead>\n",
       "    <tr style=\"text-align: right;\">\n",
       "      <th></th>\n",
       "      <th>Fight</th>\n",
       "      <th>Prediction</th>\n",
       "      <th>Predicted</th>\n",
       "      <th>Winner</th>\n",
       "      <th>Result</th>\n",
       "    </tr>\n",
       "  </thead>\n",
       "  <tbody>\n",
       "    <tr>\n",
       "      <th>0</th>\n",
       "      <td>Edson Barboza vs Lerone Murphy</td>\n",
       "      <td>0.585</td>\n",
       "      <td>Lerone Murphy</td>\n",
       "      <td>NaN</td>\n",
       "      <td>NaN</td>\n",
       "    </tr>\n",
       "    <tr>\n",
       "      <th>1</th>\n",
       "      <td>Khaos Williams vs Carlston Harris</td>\n",
       "      <td>0.400</td>\n",
       "      <td>Khaos Willaims</td>\n",
       "      <td>NaN</td>\n",
       "      <td>NaN</td>\n",
       "    </tr>\n",
       "    <tr>\n",
       "      <th>2</th>\n",
       "      <td>Themba Gorimbo vs Ramiz Brahimaj</td>\n",
       "      <td>0.550</td>\n",
       "      <td>Ramiz Brahimaj</td>\n",
       "      <td>NaN</td>\n",
       "      <td>NaN</td>\n",
       "    </tr>\n",
       "    <tr>\n",
       "      <th>3</th>\n",
       "      <td>Adrian Yanez vs Vinicius Salvador</td>\n",
       "      <td>0.720</td>\n",
       "      <td>Vinicus Salvador</td>\n",
       "      <td>NaN</td>\n",
       "      <td>NaN</td>\n",
       "    </tr>\n",
       "  </tbody>\n",
       "</table>\n",
       "</div>"
      ],
      "text/plain": [
       "                               Fight  Prediction         Predicted  Winner  \\\n",
       "0     Edson Barboza vs Lerone Murphy       0.585     Lerone Murphy     NaN   \n",
       "1  Khaos Williams vs Carlston Harris       0.400    Khaos Willaims     NaN   \n",
       "2   Themba Gorimbo vs Ramiz Brahimaj       0.550    Ramiz Brahimaj     NaN   \n",
       "3  Adrian Yanez vs Vinicius Salvador       0.720  Vinicus Salvador     NaN   \n",
       "\n",
       "   Result  \n",
       "0     NaN  \n",
       "1     NaN  \n",
       "2     NaN  \n",
       "3     NaN  "
      ]
     },
     "execution_count": 2,
     "metadata": {},
     "output_type": "execute_result"
    }
   ],
   "source": [
    "df = pd.read_csv('mockPreds.csv')\n",
    "df.head()"
   ]
  },
  {
   "cell_type": "code",
   "execution_count": 3,
   "metadata": {},
   "outputs": [],
   "source": [
    "url = 'https://www.espn.com/mma/schedule/_/league/ufc'\n",
    "headers = {'User-Agent': \"Mozilla/5.0 (Windows NT 10.0; Win64; x64) AppleWebKit/537.36 (KHTML, like Gecko) Chrome/42.0.2311.135 Safari/537.36 Edge/12.246\"}\n",
    "    \n",
    "#site request\n",
    "site = requests.get(url, headers=headers)\n",
    "soup = BeautifulSoup(site.content, 'html.parser')\n",
    "\n",
    "print(site)"
   ]
  },
  {
   "cell_type": "code",
   "execution_count": 11,
   "metadata": {},
   "outputs": [
    {
     "name": "stdout",
     "output_type": "stream",
     "text": [
      "[<tbody class=\"Table__TBODY\"><tr class=\"Table__TR Table__TR--sm Table__even\" data-idx=\"0\"><td class=\"date__col Table__TD\"><span class=\"date__innerCell\">Jun 1</span></td><td class=\"date__col Table__TD\"><a class=\"AnchorLink\" href=\"/mma/fightcenter/_/id/600044413/league/ufc\" tabindex=\"0\">6:15 PM</a></td><td class=\"broadcast__col Table__TD\"><div class=\"network-container\"><a class=\"AnchorLink network-container_link\" href=\"/espnplus\" tabindex=\"0\"><img alt=\"ESPN+\" class=\"Image Logo__Network network-espn+\" data-mptype=\"image\" src=\"data:image/gif;base64,R0lGODlhAQABAIAAAAAAAP///yH5BAEAAAAALAAAAAABAAEAAAIBRAA7\"/></a><a class=\"AnchorLink network-container_link\" href=\"/watch/\" tabindex=\"0\"><figure class=\"Image aspect-ratio--parent Logo__Network network-espn2\"><div class=\"RatioFrame aspect-ratio--auto\"></div><div class=\"Image__Wrapper Image__Wrapper--relative\"><img alt=\"ESPN2\" class=\"\" data-mptype=\"image\" src=\"data:image/gif;base64,R0lGODlhAQABAIAAAAAAAP///yH5BAEAAAAALAAAAAABAAEAAAIBRAA7\"/></div></figure></a><div class=\"network-name ppv\">PPV</div></div></td><td class=\"event__col Table__TD\"><a class=\"AnchorLink\" href=\"/mma/fightcenter/_/id/600044413/league/ufc\" tabindex=\"0\">UFC 302: Makhachev vs. Poirier</a></td><td class=\"location__col Table__TD\"><div>Prudential Center, Newark, NJ</div></td></tr><tr class=\"Table__TR Table__TR--sm Table__even\" data-idx=\"1\"><td class=\"date__col Table__TD\"><span class=\"date__innerCell\">Jun 8</span></td><td class=\"date__col Table__TD\"><a class=\"AnchorLink\" href=\"/mma/fightcenter/_/id/600044933/league/ufc\" tabindex=\"0\">5:00 PM</a></td><td class=\"broadcast__col Table__TD\"><div class=\"network-container\"><a class=\"AnchorLink network-container_link\" href=\"/espnplus\" tabindex=\"0\"><img alt=\"ESPN+\" class=\"Image Logo__Network network-espn+\" data-mptype=\"image\" src=\"data:image/gif;base64,R0lGODlhAQABAIAAAAAAAP///yH5BAEAAAAALAAAAAABAAEAAAIBRAA7\"/></a><a class=\"AnchorLink network-container_link\" href=\"/watch/\" tabindex=\"0\"><figure class=\"Image aspect-ratio--parent Logo__Network network-espn\"><div class=\"RatioFrame aspect-ratio--auto\"></div><div class=\"Image__Wrapper Image__Wrapper--relative\"><img alt=\"ESPN\" class=\"\" data-mptype=\"image\" src=\"data:image/gif;base64,R0lGODlhAQABAIAAAAAAAP///yH5BAEAAAAALAAAAAABAAEAAAIBRAA7\"/></div></figure></a></div></td><td class=\"event__col Table__TD\"><a class=\"AnchorLink\" href=\"/mma/fightcenter/_/id/600044933/league/ufc\" tabindex=\"0\">UFC Fight Night: Cannonier vs. Imavov</a></td><td class=\"location__col Table__TD\"><div>KFC Yum! Center, Louisville, KY</div></td></tr><tr class=\"Table__TR Table__TR--sm Table__even\" data-idx=\"2\"><td class=\"date__col Table__TD\"><span class=\"date__innerCell\">Jun 15</span></td><td class=\"date__col Table__TD\"><a class=\"AnchorLink\" href=\"/mma/fightcenter/_/id/600045713/league/ufc\" tabindex=\"0\">7:00 PM</a></td><td class=\"broadcast__col Table__TD\"><div class=\"network-container\"><a class=\"AnchorLink network-container_link\" href=\"/watch/\" tabindex=\"0\"><figure class=\"Image aspect-ratio--parent Logo__Network network-espn2\"><div class=\"RatioFrame aspect-ratio--auto\"></div><div class=\"Image__Wrapper Image__Wrapper--relative\"><img alt=\"ESPN2\" class=\"\" data-mptype=\"image\" src=\"data:image/gif;base64,R0lGODlhAQABAIAAAAAAAP///yH5BAEAAAAALAAAAAABAAEAAAIBRAA7\"/></div></figure></a></div></td><td class=\"event__col Table__TD\"><a class=\"AnchorLink\" href=\"/mma/fightcenter/_/id/600045713/league/ufc\" tabindex=\"0\">UFC Fight Night: Perez vs. Taira</a></td><td class=\"location__col Table__TD\"><div>UFC APEX, Las Vegas, NV</div></td></tr><tr class=\"Table__TR Table__TR--sm Table__even\" data-idx=\"3\"><td class=\"date__col Table__TD\"><span class=\"date__innerCell\">Jun 22</span></td><td class=\"date__col Table__TD\"><a class=\"AnchorLink\" href=\"/mma/fightcenter/_/id/600042393/league/ufc\" tabindex=\"0\">12:00 PM</a></td><td class=\"broadcast__col Table__TD\"><div class=\"network-container\"><a class=\"AnchorLink network-container_link\" href=\"/watch/\" tabindex=\"0\"><figure class=\"Image aspect-ratio--parent Logo__Network network-espn\"><div class=\"RatioFrame aspect-ratio--auto\"></div><div class=\"Image__Wrapper Image__Wrapper--relative\"><img alt=\"ESPN\" class=\"\" data-mptype=\"image\" src=\"data:image/gif;base64,R0lGODlhAQABAIAAAAAAAP///yH5BAEAAAAALAAAAAABAAEAAAIBRAA7\"/></div></figure></a><a class=\"AnchorLink network-container_link\" href=\"/watch/\" tabindex=\"0\"><figure class=\"Image aspect-ratio--parent Logo__Network network-abc\"><div class=\"RatioFrame aspect-ratio--auto\"></div><div class=\"Image__Wrapper Image__Wrapper--relative\"><img alt=\"ABC\" class=\"\" data-mptype=\"image\" src=\"data:image/gif;base64,R0lGODlhAQABAIAAAAAAAP///yH5BAEAAAAALAAAAAABAAEAAAIBRAA7\"/></div></figure></a></div></td><td class=\"event__col Table__TD\"><a class=\"AnchorLink\" href=\"/mma/fightcenter/_/id/600042393/league/ufc\" tabindex=\"0\">UFC Fight Night: Whittaker vs. Chimaev</a></td><td class=\"location__col Table__TD\"><div>Kingdom Arena, Riyadh, Saudi Arabia</div></td></tr><tr class=\"Table__TR Table__TR--sm Table__even\" data-idx=\"4\"><td class=\"date__col Table__TD\"><span class=\"date__innerCell\">Jun 29</span></td><td class=\"date__col Table__TD\"><a class=\"AnchorLink\" href=\"/mma/fightcenter/_/id/600043173/league/ufc\" tabindex=\"0\">6:00 PM</a></td><td class=\"broadcast__col Table__TD\"><div class=\"network-container\"><a class=\"AnchorLink network-container_link\" href=\"/watch/\" tabindex=\"0\"><figure class=\"Image aspect-ratio--parent Logo__Network network-espn\"><div class=\"RatioFrame aspect-ratio--auto\"></div><div class=\"Image__Wrapper Image__Wrapper--relative\"><img alt=\"ESPN\" class=\"\" data-mptype=\"image\" src=\"data:image/gif;base64,R0lGODlhAQABAIAAAAAAAP///yH5BAEAAAAALAAAAAABAAEAAAIBRAA7\"/></div></figure></a><div class=\"network-name ppv\">PPV</div></div></td><td class=\"event__col Table__TD\"><a class=\"AnchorLink\" href=\"/mma/fightcenter/_/id/600043173/league/ufc\" tabindex=\"0\">UFC 303: McGregor vs. Chandler</a></td><td class=\"location__col Table__TD\"><div>T-Mobile Arena, Las Vegas, NV</div></td></tr><tr class=\"Table__TR Table__TR--sm Table__even\" data-idx=\"5\"><td class=\"date__col Table__TD\"><span class=\"date__innerCell\">Jul 13</span></td><td class=\"date__col Table__TD\"><a class=\"AnchorLink\" href=\"/mma/fightcenter/_/id/600046021/league/ufc\" tabindex=\"0\">6:00 PM</a></td><td class=\"broadcast__col Table__TD\"></td><td class=\"event__col Table__TD\"><a class=\"AnchorLink\" href=\"/mma/fightcenter/_/id/600046021/league/ufc\" tabindex=\"0\">UFC Fight Night: 7/13</a></td><td class=\"location__col Table__TD\"><div></div></td></tr><tr class=\"Table__TR Table__TR--sm Table__even\" data-idx=\"6\"><td class=\"date__col Table__TD\"><span class=\"date__innerCell\">Jul 20</span></td><td class=\"date__col Table__TD\"><a class=\"AnchorLink\" href=\"/mma/fightcenter/_/id/600046020/league/ufc\" tabindex=\"0\">4:00 PM</a></td><td class=\"broadcast__col Table__TD\"></td><td class=\"event__col Table__TD\"><a class=\"AnchorLink\" href=\"/mma/fightcenter/_/id/600046020/league/ufc\" tabindex=\"0\">UFC Fight Night: 7/20</a></td><td class=\"location__col Table__TD\"><div>UFC APEX, Las Vegas, NV</div></td></tr><tr class=\"Table__TR Table__TR--sm Table__even\" data-idx=\"7\"><td class=\"date__col Table__TD\"><span class=\"date__innerCell\">Jul 27</span></td><td class=\"date__col Table__TD\"><a class=\"AnchorLink\" href=\"/mma/fightcenter/_/id/600045073/league/ufc\" tabindex=\"0\">6:00 PM</a></td><td class=\"broadcast__col Table__TD\"><div class=\"network-container\"><a class=\"AnchorLink network-container_link\" href=\"/watch/\" tabindex=\"0\"><figure class=\"Image aspect-ratio--parent Logo__Network network-espn2\"><div class=\"RatioFrame aspect-ratio--auto\"></div><div class=\"Image__Wrapper Image__Wrapper--relative\"><img alt=\"ESPN2\" class=\"\" data-mptype=\"image\" src=\"data:image/gif;base64,R0lGODlhAQABAIAAAAAAAP///yH5BAEAAAAALAAAAAABAAEAAAIBRAA7\"/></div></figure></a><a class=\"AnchorLink network-container_link\" href=\"/espnplus\" tabindex=\"0\"><img alt=\"ESPN+\" class=\"Image Logo__Network network-espn+\" data-mptype=\"image\" src=\"data:image/gif;base64,R0lGODlhAQABAIAAAAAAAP///yH5BAEAAAAALAAAAAABAAEAAAIBRAA7\"/></a><div class=\"network-name ppv\">PPV</div></div></td><td class=\"event__col Table__TD\"><a class=\"AnchorLink\" href=\"/mma/fightcenter/_/id/600045073/league/ufc\" tabindex=\"0\">UFC 304: Edwards vs. Muhammad 2</a></td><td class=\"location__col Table__TD\"><div>Co-op Live, Manchester, England</div></td></tr><tr class=\"Table__TR Table__TR--sm Table__even\" data-idx=\"8\"><td class=\"date__col Table__TD\"><span class=\"date__innerCell\">Aug 3</span></td><td class=\"date__col Table__TD\"><a class=\"AnchorLink\" href=\"/mma/fightcenter/_/id/600043635/league/ufc\" tabindex=\"0\">12:00 PM</a></td><td class=\"broadcast__col Table__TD\"><div class=\"network-container\"><a class=\"AnchorLink network-container_link\" href=\"/watch/\" tabindex=\"0\"><figure class=\"Image aspect-ratio--parent Logo__Network network-espn2\"><div class=\"RatioFrame aspect-ratio--auto\"></div><div class=\"Image__Wrapper Image__Wrapper--relative\"><img alt=\"ESPN2\" class=\"\" data-mptype=\"image\" src=\"data:image/gif;base64,R0lGODlhAQABAIAAAAAAAP///yH5BAEAAAAALAAAAAABAAEAAAIBRAA7\"/></div></figure></a><a class=\"AnchorLink network-container_link\" href=\"/watch/\" tabindex=\"0\"><figure class=\"Image aspect-ratio--parent Logo__Network network-abc\"><div class=\"RatioFrame aspect-ratio--auto\"></div><div class=\"Image__Wrapper Image__Wrapper--relative\"><img alt=\"ABC\" class=\"\" data-mptype=\"image\" src=\"data:image/gif;base64,R0lGODlhAQABAIAAAAAAAP///yH5BAEAAAAALAAAAAABAAEAAAIBRAA7\"/></div></figure></a></div></td><td class=\"event__col Table__TD\"><a class=\"AnchorLink\" href=\"/mma/fightcenter/_/id/600043635/league/ufc\" tabindex=\"0\">UFC Fight Night: Sandhagen vs. Nurmagomedov</a></td><td class=\"location__col Table__TD\"><div>Etihad Arena, Abu Dhabi, United Arab Emirates</div></td></tr><tr class=\"Table__TR Table__TR--sm Table__even\" data-idx=\"9\"><td class=\"date__col Table__TD\"><span class=\"date__innerCell\">Aug 17</span></td><td class=\"date__col Table__TD\"><a class=\"AnchorLink\" href=\"/mma/fightcenter/_/id/600044293/league/ufc\" tabindex=\"0\">6:00 PM</a></td><td class=\"broadcast__col Table__TD\"><div class=\"network-container\"><a class=\"AnchorLink network-container_link\" href=\"/espnplus\" tabindex=\"0\"><img alt=\"ESPN+\" class=\"Image Logo__Network network-espn+\" data-mptype=\"image\" src=\"data:image/gif;base64,R0lGODlhAQABAIAAAAAAAP///yH5BAEAAAAALAAAAAABAAEAAAIBRAA7\"/></a><a class=\"AnchorLink network-container_link\" href=\"/watch/\" tabindex=\"0\"><figure class=\"Image aspect-ratio--parent Logo__Network network-espn\"><div class=\"RatioFrame aspect-ratio--auto\"></div><div class=\"Image__Wrapper Image__Wrapper--relative\"><img alt=\"ESPN\" class=\"\" data-mptype=\"image\" src=\"data:image/gif;base64,R0lGODlhAQABAIAAAAAAAP///yH5BAEAAAAALAAAAAABAAEAAAIBRAA7\"/></div></figure></a><div class=\"network-name ppv\">PPV</div></div></td><td class=\"event__col Table__TD\"><a class=\"AnchorLink\" href=\"/mma/fightcenter/_/id/600044293/league/ufc\" tabindex=\"0\">UFC 305</a></td><td class=\"location__col Table__TD\"><div>RAC Arena (AUS), Perth, WA</div></td></tr><tr class=\"Table__TR Table__TR--sm Table__even\" data-idx=\"10\"><td class=\"date__col Table__TD\"><span class=\"date__innerCell\">Sep 14</span></td><td class=\"date__col Table__TD\"><a class=\"AnchorLink\" href=\"/mma/fightcenter/_/id/600039853/league/ufc\" tabindex=\"0\">6:00 PM</a></td><td class=\"broadcast__col Table__TD\"><div class=\"network-container\"><a class=\"AnchorLink network-container_link\" href=\"/espnplus\" tabindex=\"0\"><img alt=\"ESPN+\" class=\"Image Logo__Network network-espn+\" data-mptype=\"image\" src=\"data:image/gif;base64,R0lGODlhAQABAIAAAAAAAP///yH5BAEAAAAALAAAAAABAAEAAAIBRAA7\"/></a><a class=\"AnchorLink network-container_link\" href=\"/watch/\" tabindex=\"0\"><figure class=\"Image aspect-ratio--parent Logo__Network network-espnn\"><div class=\"RatioFrame aspect-ratio--auto\"></div><div class=\"Image__Wrapper Image__Wrapper--relative\"><img alt=\"ESPNN\" class=\"\" data-mptype=\"image\" src=\"data:image/gif;base64,R0lGODlhAQABAIAAAAAAAP///yH5BAEAAAAALAAAAAABAAEAAAIBRAA7\"/></div></figure></a><div class=\"network-name ppv\">PPV</div></div></td><td class=\"event__col Table__TD\"><a class=\"AnchorLink\" href=\"/mma/fightcenter/_/id/600039853/league/ufc\" tabindex=\"0\">UFC 306</a></td><td class=\"location__col Table__TD\"><div>The Sphere, Las Vegas, NV</div></td></tr><tr class=\"Table__TR Table__TR--sm Table__even\" data-idx=\"11\"><td class=\"date__col Table__TD\"><span class=\"date__innerCell\">Sep 28</span></td><td class=\"date__col Table__TD\"><a class=\"AnchorLink\" href=\"/mma/fightcenter/_/id/600045735/league/ufc\" tabindex=\"0\">12:00 PM</a></td><td class=\"broadcast__col Table__TD\"><div class=\"network-container\"><a class=\"AnchorLink network-container_link\" href=\"/espnplus\" tabindex=\"0\"><img alt=\"ESPN+\" class=\"Image Logo__Network network-espn+\" data-mptype=\"image\" src=\"data:image/gif;base64,R0lGODlhAQABAIAAAAAAAP///yH5BAEAAAAALAAAAAABAAEAAAIBRAA7\"/></a></div></td><td class=\"event__col Table__TD\"><a class=\"AnchorLink\" href=\"/mma/fightcenter/_/id/600045735/league/ufc\" tabindex=\"0\">UFC Fight Night: Paris</a></td><td class=\"location__col Table__TD\"><div>Accor Arena, Paris</div></td></tr><tr class=\"Table__TR Table__TR--sm Table__even\" data-idx=\"12\"><td class=\"date__col Table__TD\"><span class=\"date__innerCell\">Oct 26</span></td><td class=\"date__col Table__TD\"><a class=\"AnchorLink\" href=\"/mma/fightcenter/_/id/600044733/league/ufc\" tabindex=\"0\">10:00 AM</a></td><td class=\"broadcast__col Table__TD\"><div class=\"network-container\"><a class=\"AnchorLink network-container_link\" href=\"/espnplus\" tabindex=\"0\"><img alt=\"ESPN+\" class=\"Image Logo__Network network-espn+\" data-mptype=\"image\" src=\"data:image/gif;base64,R0lGODlhAQABAIAAAAAAAP///yH5BAEAAAAALAAAAAABAAEAAAIBRAA7\"/></a><div class=\"network-name ppv\">PPV</div></div></td><td class=\"event__col Table__TD\"><a class=\"AnchorLink\" href=\"/mma/fightcenter/_/id/600044733/league/ufc\" tabindex=\"0\">UFC 308</a></td><td class=\"location__col Table__TD\"><div>Etihad Arena, Abu Dhabi, United Arab Emirates</div></td></tr></tbody>, <tbody class=\"Table__TBODY\"><tr class=\"Table__TR Table__TR--sm Table__even\" data-idx=\"0\"><td class=\"date__col Table__TD\"><span class=\"date__innerCell\">May 18</span></td><td class=\"event__col Table__TD\"><a class=\"AnchorLink\" href=\"/mma/fightcenter/_/id/600044353/league/ufc\" tabindex=\"0\">UFC Fight Night: Barboza vs. Murphy</a></td><td class=\"location__col Table__TD\"><div>UFC APEX, Las Vegas, NV</div></td><td class=\"fightOfTheNight__col Table__TD\"><div><a class=\"AnchorLink\" href=\"/mma/fightcenter/_/id/600044353/league/ufc/fightId/401652482\" rel=\"summary\" tabindex=\"0\">Murphy vs. Barboza</a></div></td></tr><tr class=\"Table__TR Table__TR--sm Table__even\" data-idx=\"1\"><td class=\"date__col Table__TD\"><span class=\"date__innerCell\">May 11</span></td><td class=\"event__col Table__TD\"><a class=\"AnchorLink\" href=\"/mma/fightcenter/_/id/600043713/league/ufc\" tabindex=\"0\">UFC Fight Night: Lewis vs. Nascimento</a></td><td class=\"location__col Table__TD\"><div>Enterprise Center, St. Louis, MO</div></td><td class=\"fightOfTheNight__col Table__TD\"><div><a class=\"AnchorLink\" href=\"/mma/fightcenter/_/id/600043713/league/ufc/fightId/401652967\" rel=\"summary\" tabindex=\"0\">Waters vs. Goff</a></div></td></tr><tr class=\"Table__TR Table__TR--sm Table__even\" data-idx=\"2\"><td class=\"date__col Table__TD\"><span class=\"date__innerCell\">May 4</span></td><td class=\"event__col Table__TD\"><a class=\"AnchorLink\" href=\"/mma/fightcenter/_/id/600043073/league/ufc\" tabindex=\"0\">UFC 301: Pantoja vs. Erceg</a></td><td class=\"location__col Table__TD\"><div>Farmasi Arena, Rio De Janeiro, Brazil</div></td><td class=\"fightOfTheNight__col Table__TD\"></td></tr><tr class=\"Table__TR Table__TR--sm Table__even\" data-idx=\"3\"><td class=\"date__col Table__TD\"><span class=\"date__innerCell\">Apr 27</span></td><td class=\"event__col Table__TD\"><a class=\"AnchorLink\" href=\"/mma/fightcenter/_/id/600043333/league/ufc\" tabindex=\"0\">UFC Fight Night: Nicolau vs. Perez</a></td><td class=\"location__col Table__TD\"><div>UFC APEX, Las Vegas, NV</div></td><td class=\"fightOfTheNight__col Table__TD\"></td></tr><tr class=\"Table__TR Table__TR--sm Table__even\" data-idx=\"4\"><td class=\"date__col Table__TD\"><span class=\"date__innerCell\">Apr 13</span></td><td class=\"event__col Table__TD\"><a class=\"AnchorLink\" href=\"/mma/fightcenter/_/id/600041053/league/ufc\" tabindex=\"0\">UFC 300: Pereira vs. Hill</a></td><td class=\"location__col Table__TD\"><div>T-Mobile Arena, Las Vegas, NV</div></td><td class=\"fightOfTheNight__col Table__TD\"><div><a class=\"AnchorLink\" href=\"/mma/fightcenter/_/id/600041053/league/ufc/fightId/401632020\" rel=\"summary\" tabindex=\"0\">Gaethje vs. Holloway</a></div></td></tr><tr class=\"Table__TR Table__TR--sm Table__even\" data-idx=\"5\"><td class=\"date__col Table__TD\"><span class=\"date__innerCell\">Apr 6</span></td><td class=\"event__col Table__TD\"><a class=\"AnchorLink\" href=\"/mma/fightcenter/_/id/600041733/league/ufc\" tabindex=\"0\">UFC Fight Night: Allen vs. Curtis 2</a></td><td class=\"location__col Table__TD\"><div>UFC APEX, Las Vegas, NV</div></td><td class=\"fightOfTheNight__col Table__TD\"><div><a class=\"AnchorLink\" href=\"/mma/fightcenter/_/id/600041733/league/ufc/fightId/401648097\" rel=\"summary\" tabindex=\"0\">Charrière vs. Mariscal</a></div></td></tr><tr class=\"Table__TR Table__TR--sm Table__even\" data-idx=\"6\"><td class=\"date__col Table__TD\"><span class=\"date__innerCell\">Mar 30</span></td><td class=\"event__col Table__TD\"><a class=\"AnchorLink\" href=\"/mma/fightcenter/_/id/600041055/league/ufc\" tabindex=\"0\">UFC Fight Night: Blanchfield vs. Fiorot</a></td><td class=\"location__col Table__TD\"><div>Boardwalk Hall, Atlantic City, NJ</div></td><td class=\"fightOfTheNight__col Table__TD\"><div><a class=\"AnchorLink\" href=\"/mma/fightcenter/_/id/600041055/league/ufc/fightId/401636108\" rel=\"summary\" tabindex=\"0\">Turkalj vs. Aslan</a></div></td></tr><tr class=\"Table__TR Table__TR--sm Table__even\" data-idx=\"7\"><td class=\"date__col Table__TD\"><span class=\"date__innerCell\">Mar 23</span></td><td class=\"event__col Table__TD\"><a class=\"AnchorLink\" href=\"/mma/fightcenter/_/id/600041994/league/ufc\" tabindex=\"0\">UFC Fight Night: Ribas vs. Namajunas</a></td><td class=\"location__col Table__TD\"><div>UFC APEX, Las Vegas, NV</div></td><td class=\"fightOfTheNight__col Table__TD\"><div><a class=\"AnchorLink\" href=\"/mma/fightcenter/_/id/600041994/league/ufc/fightId/401636107\" rel=\"summary\" tabindex=\"0\">Errens vs. Nguyen</a></div></td></tr><tr class=\"Table__TR Table__TR--sm Table__even\" data-idx=\"8\"><td class=\"date__col Table__TD\"><span class=\"date__innerCell\">Mar 16</span></td><td class=\"event__col Table__TD\"><a class=\"AnchorLink\" href=\"/mma/fightcenter/_/id/600041993/league/ufc\" tabindex=\"0\">UFC Fight Night: Tuivasa vs. Tybura</a></td><td class=\"location__col Table__TD\"><div>UFC APEX, Las Vegas, NV</div></td><td class=\"fightOfTheNight__col Table__TD\"></td></tr><tr class=\"Table__TR Table__TR--sm Table__even\" data-idx=\"9\"><td class=\"date__col Table__TD\"><span class=\"date__innerCell\">Mar 9</span></td><td class=\"event__col Table__TD\"><a class=\"AnchorLink\" href=\"/mma/fightcenter/_/id/600039754/league/ufc\" tabindex=\"0\">UFC 299: O'Malley vs. Vera 2</a></td><td class=\"location__col Table__TD\"><div>Kaseya Center, Miami, FL</div></td><td class=\"fightOfTheNight__col Table__TD\"><div><a class=\"AnchorLink\" href=\"/mma/fightcenter/_/id/600039754/league/ufc/fightId/401626639\" rel=\"summary\" tabindex=\"0\">Saint Denis vs. Poirier</a></div></td></tr><tr class=\"Table__TR Table__TR--sm Table__even\" data-idx=\"10\"><td class=\"date__col Table__TD\"><span class=\"date__innerCell\">Mar 2</span></td><td class=\"event__col Table__TD\"><a class=\"AnchorLink\" href=\"/mma/fightcenter/_/id/600042433/league/ufc\" tabindex=\"0\">UFC Fight Night: Rozenstruik vs. Gaziev</a></td><td class=\"location__col Table__TD\"><div>UFC APEX, Las Vegas, NV</div></td><td class=\"fightOfTheNight__col Table__TD\"><div><a class=\"AnchorLink\" href=\"/mma/fightcenter/_/id/600042433/league/ufc/fightId/401643236\" rel=\"summary\" tabindex=\"0\">Sopaj vs. Oliveira</a></div></td></tr><tr class=\"Table__TR Table__TR--sm Table__even\" data-idx=\"11\"><td class=\"date__col Table__TD\"><span class=\"date__innerCell\">Feb 24</span></td><td class=\"event__col Table__TD\"><a class=\"AnchorLink\" href=\"/mma/fightcenter/_/id/600041054/league/ufc\" tabindex=\"0\">UFC Fight Night: Moreno vs. Royval 2</a></td><td class=\"location__col Table__TD\"><div>Mexico City Arena, Mexico City</div></td><td class=\"fightOfTheNight__col Table__TD\"><div><a class=\"AnchorLink\" href=\"/mma/fightcenter/_/id/600041054/league/ufc/fightId/401630559\" rel=\"summary\" tabindex=\"0\">Prado vs. Zellhuber</a></div></td></tr><tr class=\"Table__TR Table__TR--sm Table__even\" data-idx=\"12\"><td class=\"date__col Table__TD\"><span class=\"date__innerCell\">Feb 17</span></td><td class=\"event__col Table__TD\"><a class=\"AnchorLink\" href=\"/mma/fightcenter/_/id/600039753/league/ufc\" tabindex=\"0\">UFC 298: Volkanovski vs. Topuria</a></td><td class=\"location__col Table__TD\"><div>Honda Center, Anaheim, CA</div></td><td class=\"fightOfTheNight__col Table__TD\"><div><a class=\"AnchorLink\" href=\"/mma/fightcenter/_/id/600039753/league/ufc/fightId/401632998\" rel=\"summary\" tabindex=\"0\">Lemos vs. Dern</a></div></td></tr><tr class=\"Table__TR Table__TR--sm Table__even\" data-idx=\"13\"><td class=\"date__col Table__TD\"><span class=\"date__innerCell\">Feb 10</span></td><td class=\"event__col Table__TD\"><a class=\"AnchorLink\" href=\"/mma/fightcenter/_/id/600040033/league/ufc\" tabindex=\"0\">UFC Fight Night: Hermansson vs. Pyfer</a></td><td class=\"location__col Table__TD\"><div>UFC APEX, Las Vegas, NV</div></td><td class=\"fightOfTheNight__col Table__TD\"></td></tr><tr class=\"Table__TR Table__TR--sm Table__even\" data-idx=\"14\"><td class=\"date__col Table__TD\"><span class=\"date__innerCell\">Feb 3</span></td><td class=\"event__col Table__TD\"><a class=\"AnchorLink\" href=\"/mma/fightcenter/_/id/600040373/league/ufc\" tabindex=\"0\">UFC Fight Night: Dolidze vs. Imavov</a></td><td class=\"location__col Table__TD\"><div>UFC APEX, Las Vegas, NV</div></td><td class=\"fightOfTheNight__col Table__TD\"><div><a class=\"AnchorLink\" href=\"/mma/fightcenter/_/id/600040373/league/ufc/fightId/401630114\" rel=\"summary\" tabindex=\"0\">Maksum vs. Johnson</a></div></td></tr><tr class=\"Table__TR Table__TR--sm Table__even\" data-idx=\"15\"><td class=\"date__col Table__TD\"><span class=\"date__innerCell\">Jan 20</span></td><td class=\"event__col Table__TD\"><a class=\"AnchorLink\" href=\"/mma/fightcenter/_/id/600039713/league/ufc\" tabindex=\"0\">UFC 297: Strickland vs. Du Plessis</a></td><td class=\"location__col Table__TD\"><div>Scotiabank Arena, Toronto, ON</div></td><td class=\"fightOfTheNight__col Table__TD\"><div><a class=\"AnchorLink\" href=\"/mma/fightcenter/_/id/600039713/league/ufc/fightId/401612908\" rel=\"summary\" tabindex=\"0\">Du Plessis vs. Strickland</a></div></td></tr><tr class=\"Table__TR Table__TR--sm Table__even\" data-idx=\"16\"><td class=\"date__col Table__TD\"><span class=\"date__innerCell\">Jan 13</span></td><td class=\"event__col Table__TD\"><a class=\"AnchorLink\" href=\"/mma/fightcenter/_/id/600039893/league/ufc\" tabindex=\"0\">UFC Fight Night: Ankalaev vs. Walker 2</a></td><td class=\"location__col Table__TD\"><div>UFC APEX, Las Vegas, NV</div></td><td class=\"fightOfTheNight__col Table__TD\"></td></tr></tbody>]\n"
     ]
    }
   ],
   "source": [
    "#get table\n",
    "tbodys = soup.find_all('tbody', class_=re.compile('Table__TBODY'))\n",
    "print(tbodys)"
   ]
  },
  {
   "cell_type": "code",
   "execution_count": 16,
   "metadata": {},
   "outputs": [
    {
     "name": "stdout",
     "output_type": "stream",
     "text": [
      "/mma/fightcenter/_/id/600044353/league/ufc\n"
     ]
    }
   ],
   "source": [
    "#get part\n",
    "table = tbodys[1]\n",
    "links = table.find_all('a', class_=re.compile('AnchorLink'))\n",
    "lastEvent = links[0]\n",
    "part = lastEvent['href']\n",
    "\n",
    "print(part)"
   ]
  },
  {
   "cell_type": "code",
   "execution_count": 17,
   "metadata": {},
   "outputs": [],
   "source": [
    "url = f'https://www.espn.com{part}'\n",
    "headers = {'User-Agent': \"Mozilla/5.0 (Windows NT 10.0; Win64; x64) AppleWebKit/537.36 (KHTML, like Gecko) Chrome/42.0.2311.135 Safari/537.36 Edge/12.246\"}\n",
    "    \n",
    "#site request\n",
    "site = requests.get(url, headers=headers)\n",
    "soup = BeautifulSoup(site.content, 'html.parser')\n",
    "\n",
    "print(site)"
   ]
  }
 ],
 "metadata": {
  "kernelspec": {
   "display_name": ".venv",
   "language": "python",
   "name": "python3"
  },
  "language_info": {
   "codemirror_mode": {
    "name": "ipython",
    "version": 3
   },
   "file_extension": ".py",
   "mimetype": "text/x-python",
   "name": "python",
   "nbconvert_exporter": "python",
   "pygments_lexer": "ipython3",
   "version": "3.11.0"
  }
 },
 "nbformat": 4,
 "nbformat_minor": 2
}
